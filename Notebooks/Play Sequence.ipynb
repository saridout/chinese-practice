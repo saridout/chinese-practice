{
 "cells": [
  {
   "cell_type": "code",
   "execution_count": 25,
   "metadata": {
    "collapsed": true
   },
   "outputs": [],
   "source": [
    "#Make sure to run \"syllable download\" first!\n",
    "import IPython\n",
    "\n",
    "import pyaudio\n",
    "import wave\n",
    "import sys, os\n",
    "import re\n",
    "\n",
    "import numpy as np\n"
   ]
  },
  {
   "cell_type": "code",
   "execution_count": 26,
   "metadata": {
    "collapsed": false
   },
   "outputs": [],
   "source": [
    "#number of syllables to output\n",
    "N = 12\n",
    "all_syllables = []\n",
    "test_sequence = []\n",
    "#make a random sequence\n",
    "for file in os.listdir('../Syllables/'):\n",
    "    if re.search('.wav',file):\n",
    "        all_syllables.append(file[:-4])\n",
    "        \n",
    "        \n",
    "M = len(all_syllables)\n",
    "for i in range(N):\n",
    "    test_sequence.append(all_syllables[np.random.randint(0,M)])\n",
    "    "
   ]
  },
  {
   "cell_type": "code",
   "execution_count": 33,
   "metadata": {
    "collapsed": false
   },
   "outputs": [],
   "source": [
    "def speak_sequence(seq):\n",
    "\n",
    "    #something about buffering the audio stream\n",
    "    CHUNK = 1024\n",
    "\n",
    "\n",
    "    p = pyaudio.PyAudio()\n",
    "    stream = p.open(format=p.get_format_from_width(wf.getsampwidth()),\n",
    "                        channels=wf.getnchannels(),\n",
    "                        rate=wf.getframerate(),\n",
    "                        output=True)\n",
    "    for s in seq:\n",
    "        wf = wave.open(\"../Syllables/\"+s+\".wav\", 'rb')\n",
    "\n",
    "\n",
    "\n",
    "        data = wf.readframes(CHUNK)\n",
    "\n",
    "        while data != b'':\n",
    "            stream.write(data)\n",
    "            data = wf.readframes(CHUNK)\n",
    "\n",
    "    stream.stop_stream()\n",
    "    stream.close()\n",
    "\n",
    "    p.terminate()\n"
   ]
  },
  {
   "cell_type": "code",
   "execution_count": null,
   "metadata": {
    "collapsed": true
   },
   "outputs": [],
   "source": [
    "#listen to sequence\n",
    "speak_sequence(test_sequence)"
   ]
  },
  {
   "cell_type": "code",
   "execution_count": null,
   "metadata": {
    "collapsed": true
   },
   "outputs": [],
   "source": [
    "#if you missed one, you can replay a subset\n",
    "speak_sequence(test_sequence[4:7])"
   ]
  },
  {
   "cell_type": "code",
   "execution_count": 32,
   "metadata": {
    "collapsed": false
   },
   "outputs": [
    {
     "name": "stdout",
     "output_type": "stream",
     "text": [
      "['cuan3', 'fo1', 'sha2', 'tie1', 'la2', 'xing2', 'she3', 'niu2', 'que2', 'suan2', 'rui3', 'gang2']\n"
     ]
    }
   ],
   "source": [
    "#check your answers\n",
    "print(test_sequence)"
   ]
  },
  {
   "cell_type": "code",
   "execution_count": null,
   "metadata": {
    "collapsed": true
   },
   "outputs": [],
   "source": []
  }
 ],
 "metadata": {
  "kernelspec": {
   "display_name": "Python 3",
   "language": "python",
   "name": "python3"
  },
  "language_info": {
   "codemirror_mode": {
    "name": "ipython",
    "version": 3
   },
   "file_extension": ".py",
   "mimetype": "text/x-python",
   "name": "python",
   "nbconvert_exporter": "python",
   "pygments_lexer": "ipython3",
   "version": "3.6.0"
  }
 },
 "nbformat": 4,
 "nbformat_minor": 2
}
