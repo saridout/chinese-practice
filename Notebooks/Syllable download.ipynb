{
 "cells": [
  {
   "cell_type": "code",
   "execution_count": null,
   "metadata": {
    "collapsed": true
   },
   "outputs": [],
   "source": [
    "import requests\n",
    "import os"
   ]
  },
  {
   "cell_type": "code",
   "execution_count": null,
   "metadata": {
    "collapsed": false
   },
   "outputs": [],
   "source": [
    "#make table of POSSIBLE syllables. don't worry about illegal combinations, use http response to handle\n",
    "initials = ['','y','b','p','m','f','d','t','n','l','g','k','h','j','q','x','zh','ch','sh','r','z','c','s','w']\n",
    "finals = ['a','o','e','ai','ei','ao','ou','an','en','ang','eng','i','ia','ie','iao','iu','ian','in','iang','ing','u','ua','uo','ue','uai','ui','uan','un','uang','ong','iong','ü','üe']\n",
    "tones = ['1','2','3','4']\n",
    "#download all\n",
    "os.makedirs(\"../Syllables\",exist_ok=True)\n",
    "for i in initials:\n",
    "    for f in finals:\n",
    "        for t in tones:\n",
    "            url = \"http://lost-theory.org/chinese/phonetics/sounds/\"+i+f+t+\".wav\"\n",
    "            r = requests.get(url)\n",
    "            if r.status_code == 200:\n",
    "                with open('../Syllables/'+i+f+t+\".wav\",\"wb\") as outfile:\n",
    "                    outfile.write(r.content)"
   ]
  },
  {
   "cell_type": "code",
   "execution_count": null,
   "metadata": {
    "collapsed": true
   },
   "outputs": [],
   "source": []
  }
 ],
 "metadata": {
  "kernelspec": {
   "display_name": "Python 3",
   "language": "python",
   "name": "python3"
  },
  "language_info": {
   "codemirror_mode": {
    "name": "ipython",
    "version": 3
   },
   "file_extension": ".py",
   "mimetype": "text/x-python",
   "name": "python",
   "nbconvert_exporter": "python",
   "pygments_lexer": "ipython3",
   "version": "3.6.0"
  }
 },
 "nbformat": 4,
 "nbformat_minor": 2
}
